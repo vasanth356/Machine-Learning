{
 "cells": [
  {
   "cell_type": "code",
   "execution_count": 1,
   "metadata": {},
   "outputs": [],
   "source": [
    "# importing pandas and numpy\n",
    "\n",
    "import pandas as pd\n",
    "import numpy as np"
   ]
  },
  {
   "cell_type": "code",
   "execution_count": 2,
   "metadata": {},
   "outputs": [],
   "source": [
    "# Loading the Dataframe\n",
    "df = pd.read_csv(r'C:\\Users\\acer\\Desktop\\python practice\\UPDATED-NLP-COURSE\\TextFiles\\smsspamcollection.tsv',sep = '\\t')"
   ]
  },
  {
   "cell_type": "code",
   "execution_count": 3,
   "metadata": {},
   "outputs": [
    {
     "data": {
      "text/html": [
       "<div>\n",
       "<style scoped>\n",
       "    .dataframe tbody tr th:only-of-type {\n",
       "        vertical-align: middle;\n",
       "    }\n",
       "\n",
       "    .dataframe tbody tr th {\n",
       "        vertical-align: top;\n",
       "    }\n",
       "\n",
       "    .dataframe thead th {\n",
       "        text-align: right;\n",
       "    }\n",
       "</style>\n",
       "<table border=\"1\" class=\"dataframe\">\n",
       "  <thead>\n",
       "    <tr style=\"text-align: right;\">\n",
       "      <th></th>\n",
       "      <th>label</th>\n",
       "      <th>message</th>\n",
       "      <th>length</th>\n",
       "      <th>punct</th>\n",
       "    </tr>\n",
       "  </thead>\n",
       "  <tbody>\n",
       "    <tr>\n",
       "      <td>0</td>\n",
       "      <td>ham</td>\n",
       "      <td>Go until jurong point, crazy.. Available only ...</td>\n",
       "      <td>111</td>\n",
       "      <td>9</td>\n",
       "    </tr>\n",
       "    <tr>\n",
       "      <td>1</td>\n",
       "      <td>ham</td>\n",
       "      <td>Ok lar... Joking wif u oni...</td>\n",
       "      <td>29</td>\n",
       "      <td>6</td>\n",
       "    </tr>\n",
       "    <tr>\n",
       "      <td>2</td>\n",
       "      <td>spam</td>\n",
       "      <td>Free entry in 2 a wkly comp to win FA Cup fina...</td>\n",
       "      <td>155</td>\n",
       "      <td>6</td>\n",
       "    </tr>\n",
       "    <tr>\n",
       "      <td>3</td>\n",
       "      <td>ham</td>\n",
       "      <td>U dun say so early hor... U c already then say...</td>\n",
       "      <td>49</td>\n",
       "      <td>6</td>\n",
       "    </tr>\n",
       "    <tr>\n",
       "      <td>4</td>\n",
       "      <td>ham</td>\n",
       "      <td>Nah I don't think he goes to usf, he lives aro...</td>\n",
       "      <td>61</td>\n",
       "      <td>2</td>\n",
       "    </tr>\n",
       "  </tbody>\n",
       "</table>\n",
       "</div>"
      ],
      "text/plain": [
       "  label                                            message  length  punct\n",
       "0   ham  Go until jurong point, crazy.. Available only ...     111      9\n",
       "1   ham                      Ok lar... Joking wif u oni...      29      6\n",
       "2  spam  Free entry in 2 a wkly comp to win FA Cup fina...     155      6\n",
       "3   ham  U dun say so early hor... U c already then say...      49      6\n",
       "4   ham  Nah I don't think he goes to usf, he lives aro...      61      2"
      ]
     },
     "execution_count": 3,
     "metadata": {},
     "output_type": "execute_result"
    }
   ],
   "source": [
    "# checking the first five rows of information\n",
    "\n",
    "df.head()"
   ]
  },
  {
   "cell_type": "code",
   "execution_count": 4,
   "metadata": {},
   "outputs": [
    {
     "data": {
      "text/plain": [
       "label      0\n",
       "message    0\n",
       "length     0\n",
       "punct      0\n",
       "dtype: int64"
      ]
     },
     "execution_count": 4,
     "metadata": {},
     "output_type": "execute_result"
    }
   ],
   "source": [
    "# checking the null in the dataframe\n",
    "\n",
    "df.isnull().sum()"
   ]
  },
  {
   "cell_type": "code",
   "execution_count": 5,
   "metadata": {},
   "outputs": [
    {
     "data": {
      "text/plain": [
       "5572"
      ]
     },
     "execution_count": 5,
     "metadata": {},
     "output_type": "execute_result"
    }
   ],
   "source": [
    "# No of observations in the dataframe\n",
    "len(df)"
   ]
  },
  {
   "cell_type": "code",
   "execution_count": 6,
   "metadata": {},
   "outputs": [
    {
     "data": {
      "text/plain": [
       "array(['ham', 'spam'], dtype=object)"
      ]
     },
     "execution_count": 6,
     "metadata": {},
     "output_type": "execute_result"
    }
   ],
   "source": [
    "# unique values\n",
    "df['label'].unique()"
   ]
  },
  {
   "cell_type": "code",
   "execution_count": 9,
   "metadata": {},
   "outputs": [
    {
     "data": {
      "text/plain": [
       "ham     4825\n",
       "spam     747\n",
       "Name: label, dtype: int64"
      ]
     },
     "execution_count": 9,
     "metadata": {},
     "output_type": "execute_result"
    }
   ],
   "source": [
    "# No.of counts of ham and spam\n",
    "df['label'].value_counts()"
   ]
  },
  {
   "cell_type": "code",
   "execution_count": 11,
   "metadata": {},
   "outputs": [
    {
     "data": {
      "text/plain": [
       "13.406317300789663"
      ]
     },
     "execution_count": 11,
     "metadata": {},
     "output_type": "execute_result"
    }
   ],
   "source": [
    "# percentage of ham and spam counts\n",
    "747/(4825+747)*100"
   ]
  },
  {
   "cell_type": "markdown",
   "metadata": {},
   "source": [
    "### only 13.4% are spam observations in the data"
   ]
  },
  {
   "cell_type": "code",
   "execution_count": 22,
   "metadata": {},
   "outputs": [
    {
     "data": {
      "text/plain": [
       "count    5572.000000\n",
       "mean       80.489950\n",
       "std        59.942907\n",
       "min         2.000000\n",
       "25%        36.000000\n",
       "50%        62.000000\n",
       "75%       122.000000\n",
       "max       910.000000\n",
       "Name: length, dtype: float64"
      ]
     },
     "execution_count": 22,
     "metadata": {},
     "output_type": "execute_result"
    }
   ],
   "source": [
    "df['length'].describe()"
   ]
  },
  {
   "cell_type": "code",
   "execution_count": 21,
   "metadata": {},
   "outputs": [
    {
     "data": {
      "image/png": "[encoded data removed]",
      "text/plain": [
       "<Figure size 432x288 with 1 Axes>"
      ]
     },
     "metadata": {
      "needs_background": "light"
     },
     "output_type": "display_data"
    }
   ],
   "source": [
    "import matplotlib.pyplot as plt\n",
    "\n",
    "%matplotlib inline\n",
    "\n",
    "plt.xscale('log')\n",
    "bins = 1.15**(np.arange(0,50))\n",
    "plt.hist(df[df['label'] == 'ham']['length'], bins = bins, alpha = 0.8)\n",
    "plt.hist(df[df['label'] == 'spam']['length'], bins = bins, alpha = 0.8)\n",
    "plt.legend(('ham','spam'))\n",
    "plt.show()"
   ]
  },
  {
   "cell_type": "markdown",
   "metadata": {},
   "source": [
    "## Bigger Range of values is more likely to be spam"
   ]
  },
  {
   "cell_type": "code",
   "execution_count": 23,
   "metadata": {},
   "outputs": [
    {
     "data": {
      "text/plain": [
       "count    5572.000000\n",
       "mean        4.177495\n",
       "std         4.623919\n",
       "min         0.000000\n",
       "25%         2.000000\n",
       "50%         3.000000\n",
       "75%         6.000000\n",
       "max       133.000000\n",
       "Name: punct, dtype: float64"
      ]
     },
     "execution_count": 23,
     "metadata": {},
     "output_type": "execute_result"
    }
   ],
   "source": [
    "df['punct'].describe()"
   ]
  },
  {
   "cell_type": "code",
   "execution_count": 26,
   "metadata": {},
   "outputs": [
    {
     "data": {
      "image/png": "[encoded data removed]",
      "text/plain": [
       "<Figure size 432x288 with 1 Axes>"
      ]
     },
     "metadata": {
      "needs_background": "light"
     },
     "output_type": "display_data"
    }
   ],
   "source": [
    "plt.xscale('log')\n",
    "bins = 1.5**(np.arange(0,15))\n",
    "plt.hist(df[df['label'] == 'ham']['punct'], bins = bins, alpha = 0.8)\n",
    "plt.hist(df[df['label'] == 'spam']['punct'], bins = bins, alpha = 0.8)\n",
    "plt.legend(('ham','spam'))\n",
    "plt.show()"
   ]
  },
  {
   "cell_type": "markdown",
   "metadata": {},
   "source": [
    "## By this data. we are not getting information to select spam or ham"
   ]
  },
  {
   "cell_type": "code",
   "execution_count": 31,
   "metadata": {},
   "outputs": [
    {
     "name": "stdout",
     "output_type": "stream",
     "text": [
      "Training shape:(3733, 2)\n",
      "Testting shape:(1839, 2)\n"
     ]
    }
   ],
   "source": [
    "# creating the train and test data sets\n",
    "\n",
    "x = df[['length','punct']]\n",
    "y = df['label']\n",
    "\n",
    "from sklearn.model_selection import train_test_split\n",
    "\n",
    "x_train,x_test,y_train,y_test = train_test_split(x,y,test_size = 0.33, random_state = 42)\n",
    "\n",
    "print(f'Training shape:{x_train.shape}')\n",
    "print(f'Testting shape:{x_test.shape}')"
   ]
  },
  {
   "cell_type": "code",
   "execution_count": 44,
   "metadata": {},
   "outputs": [
    {
     "name": "stdout",
     "output_type": "stream",
     "text": [
      "confusion Matrix\n",
      "       ham  spam\n",
      "ham   1547    46\n",
      "spam   241     5\n",
      "\n",
      "\n",
      "\n",
      " Classification Report\n",
      "              precision    recall  f1-score   support\n",
      "\n",
      "         ham       0.87      0.97      0.92      1593\n",
      "        spam       0.10      0.02      0.03       246\n",
      "\n",
      "    accuracy                           0.84      1839\n",
      "   macro avg       0.48      0.50      0.47      1839\n",
      "weighted avg       0.76      0.84      0.80      1839\n",
      "\n",
      "\n",
      "\n",
      "accuracy score : 0.843936922240348\n"
     ]
    }
   ],
   "source": [
    "# Applying the Logistic regression for the classification\n",
    "\n",
    "from sklearn.linear_model import LogisticRegression\n",
    "\n",
    "lr_model = LogisticRegression()\n",
    "\n",
    "lr_model.fit(x_train,y_train)\n",
    "\n",
    "# getting the Accuracy of the Model\n",
    "\n",
    "from sklearn import metrics\n",
    "\n",
    "# performing the prediction\n",
    "\n",
    "predictions = lr_model.predict(x_test)\n",
    "\n",
    "# printing the confusion matrix\n",
    "print('confusion Matrix')\n",
    "print(pd.DataFrame(metrics.confusion_matrix(y_test, predictions), index = ['ham', 'spam'], columns = ['ham', 'spam']))\n",
    "\n",
    "# printing the recall and precision \n",
    "print('\\n\\n')\n",
    "print(' Classification Report')\n",
    "print(metrics.classification_report(y_test, predictions))\n",
    "\n",
    "# getting the accuracy of the model\n",
    "\n",
    "print('\\n')\n",
    "\n",
    "print(f'accuracy score : {metrics.accuracy_score(y_test,predictions)}')"
   ]
  },
  {
   "cell_type": "markdown",
   "metadata": {},
   "source": [
    "### Here True positives are only 5 and misclassfying the 245(False positive) as ham \n",
    "\n",
    "### Here accuracy score is high. Still model is worse"
   ]
  },
  {
   "cell_type": "code",
   "execution_count": 45,
   "metadata": {},
   "outputs": [
    {
     "name": "stdout",
     "output_type": "stream",
     "text": [
      "confusion Matrix\n",
      "       ham  spam\n",
      "ham   1583    10\n",
      "spam   246     0\n",
      "\n",
      "\n",
      "\n",
      " Classification Report\n",
      "              precision    recall  f1-score   support\n",
      "\n",
      "         ham       0.87      0.99      0.93      1593\n",
      "        spam       0.00      0.00      0.00       246\n",
      "\n",
      "    accuracy                           0.86      1839\n",
      "   macro avg       0.43      0.50      0.46      1839\n",
      "weighted avg       0.75      0.86      0.80      1839\n",
      "\n",
      "\n",
      "\n",
      "accuracy score : 0.8607939097335509\n"
     ]
    }
   ],
   "source": [
    "# Applying the naive Bayes for the classification\n",
    "\n",
    "from sklearn.naive_bayes import MultinomialNB\n",
    "\n",
    "nb_model = MultinomialNB()\n",
    "\n",
    "nb_model.fit(x_train,y_train)\n",
    "\n",
    "\n",
    "\n",
    "# performing the prediction\n",
    "\n",
    "predictions = nb_model.predict(x_test)\n",
    "\n",
    "# printing the confusion matrix\n",
    "print('confusion Matrix')\n",
    "print(pd.DataFrame(metrics.confusion_matrix(y_test, predictions), index = ['ham', 'spam'], columns = ['ham', 'spam']))\n",
    "\n",
    "# printing the recall and precision \n",
    "print('\\n\\n')\n",
    "print(' Classification Report')\n",
    "print(metrics.classification_report(y_test, predictions))\n",
    "\n",
    "# getting the accuracy of the model\n",
    "\n",
    "print('\\n')\n",
    "\n",
    "print(f'accuracy score : {metrics.accuracy_score(y_test,predictions)}')"
   ]
  },
  {
   "cell_type": "markdown",
   "metadata": {},
   "source": [
    "## Naive Baye's Model is worse than the Logistic Regression. We are classying all of the observations of spam as Ham.\n",
    "## Here Recall and F1 score is Zero"
   ]
  },
  {
   "cell_type": "code",
   "execution_count": 47,
   "metadata": {},
   "outputs": [
    {
     "name": "stdout",
     "output_type": "stream",
     "text": [
      "confusion Matrix\n",
      "       ham  spam\n",
      "ham   1555    38\n",
      "spam   193    53\n",
      "\n",
      "\n",
      "\n",
      " Classification Report\n",
      "              precision    recall  f1-score   support\n",
      "\n",
      "         ham       0.89      0.98      0.93      1593\n",
      "        spam       0.58      0.22      0.31       246\n",
      "\n",
      "    accuracy                           0.87      1839\n",
      "   macro avg       0.74      0.60      0.62      1839\n",
      "weighted avg       0.85      0.87      0.85      1839\n",
      "\n",
      "\n",
      "\n",
      "accuracy score : 0.8743882544861338\n"
     ]
    }
   ],
   "source": [
    "# Applying the Support vector Machines for the classification\n",
    "\n",
    "from sklearn.svm import SVC\n",
    "\n",
    "svc_model = SVC()\n",
    "\n",
    "svc_model.fit(x_train,y_train)\n",
    "\n",
    "\n",
    "\n",
    "# performing the prediction\n",
    "\n",
    "predictions = svc_model.predict(x_test)\n",
    "\n",
    "# printing the confusion matrix\n",
    "print('confusion Matrix')\n",
    "print(pd.DataFrame(metrics.confusion_matrix(y_test, predictions), index = ['ham', 'spam'], columns = ['ham', 'spam']))\n",
    "\n",
    "# printing the recall and precision \n",
    "print('\\n\\n')\n",
    "print(' Classification Report')\n",
    "print(metrics.classification_report(y_test, predictions))\n",
    "\n",
    "# getting the accuracy of the model\n",
    "\n",
    "print('\\n')\n",
    "\n",
    "print(f'accuracy score : {metrics.accuracy_score(y_test,predictions)}')"
   ]
  },
  {
   "cell_type": "markdown",
   "metadata": {},
   "source": [
    "### This is far better than the Logistic Regression and Naive Bayes. we are able to classify the spam and there is little increase of accuracy.\n",
    "\n",
    "### Recall and Precision, F1 score also increased for the spam class"
   ]
  },
  {
   "cell_type": "code",
   "execution_count": 48,
   "metadata": {},
   "outputs": [
    {
     "name": "stdout",
     "output_type": "stream",
     "text": [
      "confusion Matrix\n",
      "       ham  spam\n",
      "ham   1507    86\n",
      "spam   137   109\n",
      "\n",
      "\n",
      "\n",
      " Classification Report\n",
      "              precision    recall  f1-score   support\n",
      "\n",
      "         ham       0.92      0.95      0.93      1593\n",
      "        spam       0.56      0.44      0.49       246\n",
      "\n",
      "    accuracy                           0.88      1839\n",
      "   macro avg       0.74      0.69      0.71      1839\n",
      "weighted avg       0.87      0.88      0.87      1839\n",
      "\n",
      "\n",
      "\n",
      "accuracy score : 0.8787384448069603\n"
     ]
    }
   ],
   "source": [
    "# Applying the Decision tree for the classification\n",
    "\n",
    "from sklearn.tree import DecisionTreeClassifier\n",
    "\n",
    "dt_model = DecisionTreeClassifier()\n",
    "\n",
    "dt_model.fit(x_train,y_train)\n",
    "\n",
    "\n",
    "\n",
    "# performing the prediction\n",
    "\n",
    "predictions = dt_model.predict(x_test)\n",
    "\n",
    "# printing the confusion matrix\n",
    "print('confusion Matrix')\n",
    "print(pd.DataFrame(metrics.confusion_matrix(y_test, predictions), index = ['ham', 'spam'], columns = ['ham', 'spam']))\n",
    "\n",
    "# printing the recall and precision \n",
    "print('\\n\\n')\n",
    "print(' Classification Report')\n",
    "print(metrics.classification_report(y_test, predictions))\n",
    "\n",
    "# getting the accuracy of the model\n",
    "\n",
    "print('\\n')\n",
    "\n",
    "print(f'accuracy score : {metrics.accuracy_score(y_test,predictions)}')"
   ]
  },
  {
   "cell_type": "markdown",
   "metadata": {},
   "source": [
    "### This is far better than all other models. we are able to classify the spam better.\n"
   ]
  },
  {
   "cell_type": "code",
   "execution_count": 50,
   "metadata": {},
   "outputs": [
    {
     "name": "stdout",
     "output_type": "stream",
     "text": [
      "confusion Matrix\n",
      "       ham  spam\n",
      "ham   1504    89\n",
      "spam   123   123\n",
      "\n",
      "\n",
      "\n",
      " Classification Report\n",
      "              precision    recall  f1-score   support\n",
      "\n",
      "         ham       0.92      0.94      0.93      1593\n",
      "        spam       0.58      0.50      0.54       246\n",
      "\n",
      "    accuracy                           0.88      1839\n",
      "   macro avg       0.75      0.72      0.74      1839\n",
      "weighted avg       0.88      0.88      0.88      1839\n",
      "\n",
      "\n",
      "\n",
      "accuracy score : 0.8847199564980968\n"
     ]
    }
   ],
   "source": [
    "# Applying the Decision tree for the classification\n",
    "\n",
    "from sklearn.ensemble import RandomForestClassifier\n",
    "\n",
    "rf_model = RandomForestClassifier()\n",
    "\n",
    "rf_model.fit(x_train,y_train)\n",
    "\n",
    "\n",
    "\n",
    "# performing the prediction\n",
    "\n",
    "predictions = rf_model.predict(x_test)\n",
    "\n",
    "# printing the confusion matrix\n",
    "print('confusion Matrix')\n",
    "print(pd.DataFrame(metrics.confusion_matrix(y_test, predictions), index = ['ham', 'spam'], columns = ['ham', 'spam']))\n",
    "\n",
    "# printing the recall and precision \n",
    "print('\\n\\n')\n",
    "print(' Classification Report')\n",
    "print(metrics.classification_report(y_test, predictions))\n",
    "\n",
    "# getting the accuracy of the model\n",
    "\n",
    "print('\\n')\n",
    "\n",
    "print(f'accuracy score : {metrics.accuracy_score(y_test,predictions)}')"
   ]
  },
  {
   "cell_type": "markdown",
   "metadata": {},
   "source": [
    "### This is better than Decision Tree as it is combination of decision trees. it is  able to classify the spam better."
   ]
  },
  {
   "cell_type": "code",
   "execution_count": null,
   "metadata": {},
   "outputs": [],
   "source": []
  },
  {
   "cell_type": "code",
   "execution_count": null,
   "metadata": {},
   "outputs": [],
   "source": []
  },
  {
   "cell_type": "markdown",
   "metadata": {},
   "source": [
    "### All the models taken so far. Not accounted the text into model. \n",
    "\n",
    "### i have taken only the length and punctation.\n",
    "\n",
    "### Building the Model on text might improve our accuracy"
   ]
  },
  {
   "cell_type": "code",
   "execution_count": 98,
   "metadata": {},
   "outputs": [
    {
     "name": "stdout",
     "output_type": "stream",
     "text": [
      "x_train.shape : (3733,)\n",
      "x_test shape: (1839,)\n"
     ]
    }
   ],
   "source": [
    "# creating the train and test split\n",
    "\n",
    "x= df['message']\n",
    "y= df['label']\n",
    "\n",
    "from sklearn.model_selection import train_test_split\n",
    "\n",
    "x_train,x_test, y_train, y_test = train_test_split(x,y,test_size = 0.33, random_state = 42)\n",
    "\n",
    "print(f'x_train.shape : {x_train.shape}')\n",
    "print(f'x_test shape: {x_test.shape}')"
   ]
  },
  {
   "cell_type": "code",
   "execution_count": 102,
   "metadata": {},
   "outputs": [],
   "source": [
    "# importing the TFdifvectrorizer ans linearsvc\n",
    "\n",
    "from sklearn.feature_extraction.text import TfidfVectorizer\n",
    "\n",
    "from sklearn.svm import LinearSVC"
   ]
  },
  {
   "cell_type": "code",
   "execution_count": 124,
   "metadata": {},
   "outputs": [
    {
     "data": {
      "text/plain": [
       "Pipeline(memory=None,\n",
       "         steps=[('tfdif',\n",
       "                 TfidfVectorizer(analyzer='word', binary=False,\n",
       "                                 decode_error='strict',\n",
       "                                 dtype=<class 'numpy.float64'>,\n",
       "                                 encoding='utf-8', input='content',\n",
       "                                 lowercase=True, max_df=1.0, max_features=None,\n",
       "                                 min_df=1, ngram_range=(1, 1), norm='l2',\n",
       "                                 preprocessor=None, smooth_idf=True,\n",
       "                                 stop_words=None, strip_accents=None,\n",
       "                                 sublinear_tf=False,\n",
       "                                 token_pattern='(?u)\\\\b\\\\w\\\\w+\\\\b',\n",
       "                                 tokenizer=None, use_idf=True,\n",
       "                                 vocabulary=None)),\n",
       "                ('clf',\n",
       "                 LinearSVC(C=1.0, class_weight=None, dual=True,\n",
       "                           fit_intercept=True, intercept_scaling=1,\n",
       "                           loss='squared_hinge', max_iter=1000,\n",
       "                           multi_class='ovr', penalty='l2', random_state=None,\n",
       "                           tol=0.0001, verbose=0))],\n",
       "         verbose=False)"
      ]
     },
     "execution_count": 124,
     "metadata": {},
     "output_type": "execute_result"
    }
   ],
   "source": [
    "# creating the Pipeline and training the model\n",
    "\n",
    "from sklearn.pipeline import Pipeline\n",
    "\n",
    "text_clf= Pipeline([('tfdif',TfidfVectorizer()), ('clf',LinearSVC())])\n",
    "\n",
    "text_clf.fit(x_train, y_train)"
   ]
  },
  {
   "cell_type": "code",
   "execution_count": 125,
   "metadata": {},
   "outputs": [
    {
     "name": "stdout",
     "output_type": "stream",
     "text": [
      "[[1586    7]\n",
      " [  12  234]]\n",
      "              precision    recall  f1-score   support\n",
      "\n",
      "         ham       0.99      1.00      0.99      1593\n",
      "        spam       0.97      0.95      0.96       246\n",
      "\n",
      "    accuracy                           0.99      1839\n",
      "   macro avg       0.98      0.97      0.98      1839\n",
      "weighted avg       0.99      0.99      0.99      1839\n",
      "\n"
     ]
    }
   ],
   "source": [
    "# predicting by using the classifier\n",
    "\n",
    "predictions = text_clf.predict(x_test)\n",
    "\n",
    "# getting the confusion matrix\n",
    "\n",
    "from sklearn import metrics\n",
    "\n",
    "print(metrics.confusion_matrix(y_test,predictions))\n",
    "\n",
    "# printing the classification report\n",
    "\n",
    "print(metrics.classification_report(y_test,predictions))\n"
   ]
  },
  {
   "cell_type": "code",
   "execution_count": 110,
   "metadata": {},
   "outputs": [
    {
     "name": "stdout",
     "output_type": "stream",
     "text": [
      "[[1593    0]\n",
      " [  70  176]]\n",
      "              precision    recall  f1-score   support\n",
      "\n",
      "         ham       0.96      1.00      0.98      1593\n",
      "        spam       1.00      0.72      0.83       246\n",
      "\n",
      "    accuracy                           0.96      1839\n",
      "   macro avg       0.98      0.86      0.91      1839\n",
      "weighted avg       0.96      0.96      0.96      1839\n",
      "\n"
     ]
    }
   ],
   "source": [
    "from sklearn.naive_bayes import MultinomialNB\n",
    "\n",
    "# creating the Pipeline and training the model\n",
    "\n",
    "from sklearn.pipeline import Pipeline\n",
    "\n",
    "text_clf= Pipeline([('tfdif',TfidfVectorizer()), ('clf',MultinomialNB())])\n",
    "\n",
    "text_clf.fit(x_train, y_train)\n",
    "\n",
    "# predicting by using the classifier\n",
    "\n",
    "predictions = text_clf.predict(x_test)\n",
    "\n",
    "# getting the confusion matrix\n",
    "\n",
    "from sklearn import metrics\n",
    "\n",
    "print(metrics.confusion_matrix(y_test,predictions))\n",
    "\n",
    "# printing the classification report\n",
    "\n",
    "print(metrics.classification_report(y_test,predictions))\n"
   ]
  },
  {
   "cell_type": "code",
   "execution_count": 111,
   "metadata": {},
   "outputs": [
    {
     "name": "stdout",
     "output_type": "stream",
     "text": [
      "[[1593    0]\n",
      " [  37  209]]\n",
      "              precision    recall  f1-score   support\n",
      "\n",
      "         ham       0.98      1.00      0.99      1593\n",
      "        spam       1.00      0.85      0.92       246\n",
      "\n",
      "    accuracy                           0.98      1839\n",
      "   macro avg       0.99      0.92      0.95      1839\n",
      "weighted avg       0.98      0.98      0.98      1839\n",
      "\n"
     ]
    }
   ],
   "source": [
    "from sklearn.naive_bayes import BernoulliNB\n",
    "\n",
    "# creating the Pipeline and training the model\n",
    "\n",
    "from sklearn.pipeline import Pipeline\n",
    "\n",
    "text_clf= Pipeline([('tfdif',TfidfVectorizer()), ('clf',BernoulliNB())])\n",
    "\n",
    "text_clf.fit(x_train, y_train)\n",
    "\n",
    "# predicting by using the classifier\n",
    "\n",
    "predictions = text_clf.predict(x_test)\n",
    "\n",
    "# getting the confusion matrix\n",
    "\n",
    "from sklearn import metrics\n",
    "\n",
    "print(metrics.confusion_matrix(y_test,predictions))\n",
    "\n",
    "# printing the classification report\n",
    "\n",
    "print(metrics.classification_report(y_test,predictions))"
   ]
  },
  {
   "cell_type": "code",
   "execution_count": 116,
   "metadata": {},
   "outputs": [
    {
     "name": "stdout",
     "output_type": "stream",
     "text": [
      "[[1593    0]\n",
      " [  24  222]]\n",
      "              precision    recall  f1-score   support\n",
      "\n",
      "         ham       0.99      1.00      0.99      1593\n",
      "        spam       1.00      0.90      0.95       246\n",
      "\n",
      "    accuracy                           0.99      1839\n",
      "   macro avg       0.99      0.95      0.97      1839\n",
      "weighted avg       0.99      0.99      0.99      1839\n",
      "\n"
     ]
    }
   ],
   "source": [
    "from sklearn.svm import SVC\n",
    "\n",
    "# creating the Pipeline and training the model\n",
    "\n",
    "from sklearn.pipeline import Pipeline\n",
    "\n",
    "text_clf= Pipeline([('tfdif',TfidfVectorizer()), ('clf',SVC(degree=7))])\n",
    "\n",
    "text_clf.fit(x_train, y_train)\n",
    "\n",
    "# predicting by using the classifier\n",
    "\n",
    "predictions = text_clf.predict(x_test)\n",
    "\n",
    "# getting the confusion matrix\n",
    "\n",
    "from sklearn import metrics\n",
    "\n",
    "print(metrics.confusion_matrix(y_test,predictions))\n",
    "\n",
    "# printing the classification report\n",
    "\n",
    "print(metrics.classification_report(y_test,predictions))"
   ]
  },
  {
   "cell_type": "markdown",
   "metadata": {},
   "source": [
    "# The accuracy got impressively increased.  Out of all Model is giving the good accuracy."
   ]
  },
  {
   "cell_type": "code",
   "execution_count": 137,
   "metadata": {},
   "outputs": [
    {
     "data": {
      "text/plain": [
       "array(['spam'], dtype=object)"
      ]
     },
     "execution_count": 137,
     "metadata": {},
     "output_type": "execute_result"
    }
   ],
   "source": [
    "# checking on how accurate the Model is \n",
    "\n",
    "text_clf.predict(['Congratuations.. congratulations... you won $100000 You won Congratulations..Congratulations!!..'])"
   ]
  },
  {
   "cell_type": "code",
   "execution_count": null,
   "metadata": {},
   "outputs": [],
   "source": []
  }
 ],
 "metadata": {
  "kernelspec": {
   "display_name": "Python 3",
   "language": "python",
   "name": "python3"
  },
  "language_info": {
   "codemirror_mode": {
    "name": "ipython",
    "version": 3
   },
   "file_extension": ".py",
   "mimetype": "text/x-python",
   "name": "python",
   "nbconvert_exporter": "python",
   "pygments_lexer": "ipython3",
   "version": "3.7.3"
  }
 },
 "nbformat": 4,
 "nbformat_minor": 2
}
